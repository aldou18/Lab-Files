{
 "cells": [
  {
   "cell_type": "code",
   "execution_count": 3,
   "metadata": {},
   "outputs": [],
   "source": [
    "import numpy as np\n",
    "import matplotlib.pyplot as plt\n",
    "%matplotlib inline"
   ]
  },
  {
   "cell_type": "code",
   "execution_count": 4,
   "metadata": {},
   "outputs": [],
   "source": [
    "# Define initial conditions of the system\n",
    "dt = 1 # minute\n",
    "tmax = 200 # minutes\n",
    "t_vector = np.arange(0,tmax,dt) # minutes\n",
    "Temp_initial = 98 # degrees F\n",
    "Temp_ambient = 70 # degrees F\n",
    "K = 0.022 # cooling rate [1/minutes]\n",
    "\n",
    "# print(t_vector)"
   ]
  },
  {
   "cell_type": "code",
   "execution_count": 5,
   "metadata": {},
   "outputs": [],
   "source": [
    "# pre-allocate the teperature vector\n",
    "Temp_sim = np.zeros(len(t_vector))\n",
    "Temp_sim[0] = Temp_initial # initial condition, starting temp\n",
    "\n",
    "for t in t_vector[1:]:\n",
    "    dTdt = K*(Temp_ambient - Temp_sim[t-1])*dt # Change in temperature of object\n",
    "    Temp_sim[t] = Temp_sim[t-1] + dTdt # New temperature for current time step"
   ]
  },
  {
   "cell_type": "code",
   "execution_count": 10,
   "metadata": {},
   "outputs": [
    {
     "data": {
      "text/plain": [
       "Text(46.972222222222214, 0.5, 'Temperature (degrees F)')"
      ]
     },
     "execution_count": 10,
     "metadata": {},
     "output_type": "execute_result"
    }
   ],
   "source": [
    "plt.plot(t_vector,Temp_sim)\n",
    "plt.xlabel('Time (minutes)', size=12)\n",
    "plt.ylabel('Temperature (degrees F)', size=12)"
   ]
  },
  {
   "cell_type": "code",
   "execution_count": null,
   "metadata": {},
   "outputs": [],
   "source": []
  }
 ],
 "metadata": {
  "kernelspec": {
   "display_name": "base",
   "language": "python",
   "name": "python3"
  },
  "language_info": {
   "codemirror_mode": {
    "name": "ipython",
    "version": 3
   },
   "file_extension": ".py",
   "mimetype": "text/x-python",
   "name": "python",
   "nbconvert_exporter": "python",
   "pygments_lexer": "ipython3",
   "version": "3.13.5"
  }
 },
 "nbformat": 4,
 "nbformat_minor": 4
}
